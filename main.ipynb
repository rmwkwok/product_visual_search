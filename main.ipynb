{
 "cells": [
  {
   "cell_type": "code",
   "execution_count": null,
   "metadata": {
    "colab": {
     "base_uri": "https://localhost:8080/"
    },
    "id": "GPVqnbfMgxB1",
    "outputId": "08cd714c-1358-400e-9346-382c58ced97d"
   },
   "outputs": [],
   "source": [
    "import tensorflow as tf\n",
    "import keras_toolkit as kt\n",
    "import tensorflow_addons as tfa\n",
    "\n",
    "from image import augmentation\n",
    "from model import build_classification_model, build_siamese_model, fit\n",
    "\n",
    "tf.random.set_seed(100)"
   ]
  },
  {
   "cell_type": "code",
   "execution_count": null,
   "metadata": {},
   "outputs": [],
   "source": [
    "# try to build a TPU strategy, GPU/CPU otherwise.\n",
    "try:\n",
    "    tpu = tf.distribute.cluster_resolver.TPUClusterResolver() # TPU detection\n",
    "    print(\"Running on TPU \", tpu.cluster_spec().as_dict()[\"worker\"])\n",
    "    tf.config.experimental_connect_to_cluster(tpu)\n",
    "    tf.tpu.experimental.initialize_tpu_system(tpu)\n",
    "    strategy = tf.distribute.experimental.TPUStrategy(tpu)\n",
    "except ValueError:\n",
    "    print(\"Not connected to a TPU runtime. Using CPU/GPU strategy\")\n",
    "    strategy = kt.accelerator.auto_select(verbose=True)"
   ]
  },
  {
   "cell_type": "markdown",
   "metadata": {
    "id": "nDVDmserOk2i"
   },
   "source": [
    "## Classification based on EfficientNetB0 + a new top layer\n",
    "Trained in 3 phases to adapt to the dataset:\n",
    "1. Trained the new top layer\n",
    "2. Trained the layers from the last block (block 7a)\n",
    "3. Trained the whole model\n",
    "\n",
    "No Batch Normalization originated from the EfficientNetB0 was trained throughout these phases."
   ]
  },
  {
   "cell_type": "markdown",
   "metadata": {
    "id": "kEnoFxFI5fDZ"
   },
   "source": [
    "### Dataset for Phase 1-3"
   ]
  },
  {
   "cell_type": "code",
   "execution_count": null,
   "metadata": {
    "id": "It9IostF5fOW"
   },
   "outputs": [],
   "source": [
    "BATCH_SIZE = 128\n",
    "\n",
    "# Training set\n",
    "################\n",
    "# Glob train files.\n",
    "# The images were converted into TFRecords and saved in multiple files\n",
    "train_ds = tf.data.TFRecordDataset.list_files(TRAIN_TFR_PATH) \n",
    "\n",
    "# Load train TFRecords files in parallel.\n",
    "train_ds = train_ds.interleave(\n",
    "    lambda x: tf.data.TFRecordDataset(x).map(tfr_parser_image_label),\n",
    "    deterministic=False,\n",
    "    num_parallel_calls=tf.data.AUTOTUNE\n",
    ")\n",
    "\n",
    "# Vectorize data before applying augmentation.\n",
    "train_ds = train_ds.batch(BATCH_SIZE, drop_remainder=False)\\\n",
    "    .map(augmentation, num_parallel_calls=tf.data.AUTOTUNE)\n",
    "\n",
    "# Unbatch to shuffle. \n",
    "train_ds = train_ds.unbatch()\\\n",
    "    .shuffle(buffer_size = BATCH_SIZE*10, reshuffle_each_iteration = False)\n",
    "\n",
    "# Batch to output.\n",
    "train_ds = train_ds.batch(BATCH_SIZE, drop_remainder=False)\\\n",
    "    .prefetch(tf.data.AUTOTUNE)\n",
    "\n",
    "# Validation set\n",
    "################\n",
    "valid_ds = tf.data.TFRecordDataset(VALID_TFR_PATH)\\\n",
    "    .map(tfr_parser_image_label, num_parallel_calls=tf.data.AUTOTUNE)\\\n",
    "    .batch(BATCH_SIZE, drop_remainder=False)\\\n",
    "    .map(augmentation, num_parallel_calls=tf.data.AUTOTUNE)\\\n",
    "    .prefetch(tf.data.AUTOTUNE)\n"
   ]
  },
  {
   "cell_type": "markdown",
   "metadata": {
    "id": "z-ld8NTNqgaP"
   },
   "source": [
    "### Phase 1"
   ]
  },
  {
   "cell_type": "code",
   "execution_count": null,
   "metadata": {
    "id": "UWpGmukAhTTG"
   },
   "outputs": [],
   "source": [
    "with strategy.scope():\n",
    "    model = build_classification_model(top_dropout_rate = 0.2)\n",
    "    model.compile(\n",
    "        loss = tf.keras.losses.SparseCategoricalCrossentropy(),\n",
    "        metrics = [tf.keras.metrics.SparseCategoricalAccuracy()],\n",
    "        optimizer = tf.keras.optimizers.Adam(learning_rate=1e-2), \n",
    "    )\n",
    "\n",
    "fit(model, train_ds, valid_ds, epochs=1, initial_epoch=0, prefix='trans1')"
   ]
  },
  {
   "cell_type": "markdown",
   "metadata": {
    "id": "dCSDUcwMqoXe"
   },
   "source": [
    "### Phase 2"
   ]
  },
  {
   "cell_type": "code",
   "execution_count": null,
   "metadata": {
    "id": "GmyHJXRV_zYB"
   },
   "outputs": [],
   "source": [
    "with strategy.scope():\n",
    "    model = build_classification_model(top_dropout_rate = 0.2)\n",
    "    model.load_weights('trans1_weights.00001.hdf5')\n",
    "    \n",
    "    # make the last block trainable except BN\n",
    "    for layer in model.layers[-20:]:\n",
    "        if not isinstance(layer, tf.keras.layers.BatchNormalization):\n",
    "            layer.trainable = True\n",
    "\n",
    "    model.compile(\n",
    "        loss = tf.keras.losses.SparseCategoricalCrossentropy(),\n",
    "        metrics = [tf.keras.metrics.SparseCategoricalAccuracy()],\n",
    "        optimizer = tf.keras.optimizers.Adam(learning_rate=1e-4), \n",
    "    )\n",
    "\n",
    "fit(model, train_ds, valid_ds, epochs=2, initial_epoch=0, prefix='trans2')"
   ]
  },
  {
   "cell_type": "markdown",
   "metadata": {
    "id": "tmWpaHI0w50Y"
   },
   "source": [
    "### Phase 3"
   ]
  },
  {
   "cell_type": "code",
   "execution_count": null,
   "metadata": {
    "id": "dCOTwCGiY3yA"
   },
   "outputs": [],
   "source": [
    "with strategy.scope():\n",
    "    model = build_classification_model(top_dropout_rate = 0.2)\n",
    "    model.load_weights('trans2_weights.00002.hdf5')\n",
    "    \n",
    "    # make all blocks trainable except BN\n",
    "    for layer in model.layers: \n",
    "        if not isinstance(layer, tf.keras.layers.BatchNormalization):\n",
    "            layer.trainable = True\n",
    "\n",
    "    model.compile(\n",
    "        loss = tf.keras.losses.SparseCategoricalCrossentropy(),\n",
    "        metrics = [tf.keras.metrics.SparseCategoricalAccuracy()],\n",
    "        optimizer = tf.keras.optimizers.Adam(learning_rate=1e-5), \n",
    "    )\n",
    "\n",
    "fit(model, train_ds, valid_ds, epochs=5, initial_epoch=0, prefix='trans3_6')"
   ]
  },
  {
   "cell_type": "markdown",
   "metadata": {
    "id": "eoOM5w2Bib36"
   },
   "source": [
    "## Siamese (Dense + L2-Norm)\n"
   ]
  },
  {
   "cell_type": "markdown",
   "metadata": {
    "id": "Yf7N3uBwNM_P"
   },
   "source": [
    "### Dataset for Phase 4"
   ]
  },
  {
   "cell_type": "code",
   "execution_count": null,
   "metadata": {
    "id": "KMLNN7GX-2TT"
   },
   "outputs": [],
   "source": [
    "BATCH_SIZE_EMB = 512\n",
    "\n",
    "train_ds_emb = tf.data.TFRecordDataset.list_files(TRAIN_EMB_PATH, shuffle=False)\\\n",
    "    .flat_map(tf.data.TFRecordDataset)\\\n",
    "    .map(tfr_parser_emb_idx, num_parallel_calls=tf.data.AUTOTUNE)\\\n",
    "    .batch(BATCH_SIZE_EMB)\\\n",
    "    .prefetch(tf.data.AUTOTUNE)\n",
    "\n",
    "valid_ds_emb = tf.data.TFRecordDataset.list_files(VALID_EMB_PATH, shuffle=False)\\\n",
    "    .flat_map(tf.data.TFRecordDataset)\\\n",
    "    .map(tfr_parser_emb_idx, num_parallel_calls=tf.data.AUTOTUNE)\\\n",
    "    .batch(BATCH_SIZE_EMB)\\\n",
    "    .prefetch(tf.data.AUTOTUNE)"
   ]
  },
  {
   "cell_type": "markdown",
   "metadata": {
    "id": "rP8nwJJdNWh1"
   },
   "source": [
    "### Phase 4\n",
    "\n",
    "Following configurations were used.\n",
    "1. margin: 0.50, learning_rate: 1e-5, trained for 2 epochs\n",
    "2. margin: 0.75, learning_rate: 1e-5, trained for 1 epoch\n",
    "3. margin: 0.75, learning_rate: 1e-4, trained for 1 epoch"
   ]
  },
  {
   "cell_type": "code",
   "execution_count": null,
   "metadata": {
    "id": "8cgj-oqnidIi"
   },
   "outputs": [],
   "source": [
    "with strategy.scope():\n",
    "    model = build_siamese_model()\n",
    "    model.compile(\n",
    "        loss=tfa.losses.TripletSemiHardLoss(margin=0.50, distance_metric='angular'), \n",
    "        optimizer=tf.keras.optimizers.Adam(learning_rate=1e-5),\n",
    "    )\n",
    "\n",
    "fit(model, train_ds_emb, valid_ds_emb, epochs=2, initial_epoch=0, prefix='trans4_4')"
   ]
  },
  {
   "cell_type": "code",
   "execution_count": null,
   "metadata": {
    "id": "0W6oXMNEqbYD"
   },
   "outputs": [],
   "source": [
    "with strategy.scope():\n",
    "    model = build_siamese_model()\n",
    "    model.load_weights('trans4_4_weights.00002.hdf5')\n",
    "    model.compile(\n",
    "        loss=tfa.losses.TripletSemiHardLoss(margin=0.75, distance_metric='angular'),\n",
    "        optimizer=tf.keras.optimizers.Adam(learning_rate=1e-5), \n",
    "    )\n",
    "\n",
    "fit(model, train_ds_emb, valid_ds_emb, epochs=1, initial_epoch=0, prefix='trans4_4a')"
   ]
  },
  {
   "cell_type": "code",
   "execution_count": null,
   "metadata": {
    "id": "e2QSU11wqj96"
   },
   "outputs": [],
   "source": [
    "with strategy.scope():\n",
    "    model = build_siamese_model()\n",
    "    model.load_weights('trans4_4a_weights.00001.hdf5')\n",
    "    model.compile(\n",
    "        loss=tfa.losses.TripletSemiHardLoss(margin=0.75, distance_metric='angular'),\n",
    "        optimizer=tf.keras.optimizers.Adam(learning_rate=1e-4), \n",
    "    )\n",
    "\n",
    "fit(model, train_ds_emb, valid_ds_emb, epochs=1, initial_epoch=0, prefix='_trans4_4b')"
   ]
  }
 ],
 "metadata": {
  "colab": {
   "collapsed_sections": [
    "b0TrpZIaq3gX",
    "ixwrkVyQLlgu",
    "Do0VkVQEq6ut",
    "GKgJKinlRDr8",
    "nDVDmserOk2i",
    "kEnoFxFI5fDZ",
    "z-ld8NTNqgaP",
    "dCSDUcwMqoXe",
    "tmWpaHI0w50Y",
    "HUes23KmNEJ-",
    "eoOM5w2Bib36",
    "Yf7N3uBwNM_P",
    "rP8nwJJdNWh1",
    "RIWSz1BZHJNu"
   ],
   "name": "eBay_CVPR2021_keepgoing_code.ipynb",
   "provenance": []
  },
  "kernelspec": {
   "display_name": "Python 3",
   "language": "python",
   "name": "python3"
  },
  "language_info": {
   "codemirror_mode": {
    "name": "ipython",
    "version": 3
   },
   "file_extension": ".py",
   "mimetype": "text/x-python",
   "name": "python",
   "nbconvert_exporter": "python",
   "pygments_lexer": "ipython3",
   "version": "3.6.9"
  }
 },
 "nbformat": 4,
 "nbformat_minor": 1
}
